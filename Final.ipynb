{
  "nbformat": 4,
  "nbformat_minor": 0,
  "metadata": {
    "colab": {
      "provenance": [],
      "collapsed_sections": [
        "9PKbXNuagZDr"
      ],
      "include_colab_link": true
    },
    "kernelspec": {
      "name": "python3",
      "display_name": "Python 3"
    },
    "language_info": {
      "name": "python"
    }
  },
  "cells": [
    {
      "cell_type": "markdown",
      "metadata": {
        "id": "view-in-github",
        "colab_type": "text"
      },
      "source": [
        "<a href=\"https://colab.research.google.com/github/ccfloren-su/Green-Climate-Hero/blob/main/Final.ipynb\" target=\"_parent\"><img src=\"https://colab.research.google.com/assets/colab-badge.svg\" alt=\"Open In Colab\"/></a>"
      ]
    },
    {
      "cell_type": "markdown",
      "source": [
        "#Bank Marketing Prediction"
      ],
      "metadata": {
        "id": "WeBg21opjALs"
      }
    },
    {
      "cell_type": "markdown",
      "source": [
        "By: Eliza Estes, Caribel Florentino, Aiden Robinson, Elizabeth Silha"
      ],
      "metadata": {
        "id": "dYFojUZCl5j-"
      }
    },
    {
      "cell_type": "markdown",
      "source": [
        "##Introduction"
      ],
      "metadata": {
        "id": "yb3V-rxpk-48"
      }
    },
    {
      "cell_type": "markdown",
      "source": [
        "The objective of this machine learning model is to predict whether a client will subscribe to a term deposit for a Portuguese banking institution based on a direct marketing campaign. A term deposit is a fixed-term investment with a financial institution. Banks benefit by reinvesting the deposits for a higher rate of return and clients benefit from interest and a safe method of investing. While general bank marketing techniques are too broad as they do not segment their customer base or require manual segmentation, machine learning can more effectively segment and market to a customer base. These broad marketing approaches can be inefficient and lead to lower conversion rates. By understanding the most important features that impact whether a client will subscribe to a term deposit, banks can more effectively target their marketing efforts to receive a higher rate of deposit. In the long run, this equates to higher profits for banks and interest for clients who are the two main stakeholders for this project.\n",
        "\n",
        "While this dataset represents demographic information and a history of past campaigns much like other machine learning models, it is novel because it also includes macroeconomic indicators. For example, the employment variation rate which measures how the employment rate changes from quarter to quarter. Also, the number of employees at the time, which indicates a stronger or weaker labor market. Understanding economic conditions at the time of a marketing campaign, can impact whether clients want to make an investment. Therefore, banks can shift their focus to a different segment of clients or delay their marketing campaigns entirely for better outcomes.\n"
      ],
      "metadata": {
        "id": "uGLvDMaBl_We"
      }
    },
    {
      "cell_type": "markdown",
      "source": [
        "##Dataset Overview"
      ],
      "metadata": {
        "id": "zwXW7fOKlAtr"
      }
    },
    {
      "cell_type": "markdown",
      "source": [
        "The raw dataset contains 45,211 instances and 16 features, including numeric and categorical data. Some feature columns include age, marital status, occupation, education, the month of contact, the outcome of the previous campaign, and the prediction column, whether the client subscribed to a term deposit. Also, there are some null values but we intended to drop the irrelevant columns or rows since there is still a significant amount of data remaining.\n",
        "\n",
        "The source of this dataset is the UC Irvine Machine Learning Repository donated in 2012 by a Portuguese banking institution. This is a reputable source for datasets used in machine learning research. It is publicly available and has been properly authorized for donation, ensuring that the people who uploaded the datasets had permission and privacy standards were met. All personally identifiable information has been removed to comply with privacy regulations.\n",
        "\n",
        "Dataset: https://archive.ics.uci.edu/dataset/222/bank+marketing"
      ],
      "metadata": {
        "id": "hmy2NiO_mBAJ"
      }
    },
    {
      "cell_type": "code",
      "source": [
        "from google.colab import drive\n",
        "drive.mount('/content/drive') #This connects the collab notebook to the drive"
      ],
      "metadata": {
        "id": "5chINyrGmEIS",
        "colab": {
          "base_uri": "https://localhost:8080/"
        },
        "outputId": "0da5194b-5e59-4539-ef50-7a8712e47d1f"
      },
      "execution_count": null,
      "outputs": [
        {
          "output_type": "stream",
          "name": "stdout",
          "text": [
            "Drive already mounted at /content/drive; to attempt to forcibly remount, call drive.mount(\"/content/drive\", force_remount=True).\n"
          ]
        }
      ]
    },
    {
      "cell_type": "code",
      "source": [
        "from pyspark.sql import SparkSession\n",
        "spark = SparkSession.builder \\\n",
        "    .appName(\"BigDataPreprocessing\") \\\n",
        "    .getOrCreate()"
      ],
      "metadata": {
        "id": "XZYqMWImmGAW"
      },
      "execution_count": null,
      "outputs": []
    },
    {
      "cell_type": "code",
      "source": [
        "#Change the file path to your personal path to the data, we are all going to have different ones\n",
        "#Use Liz's path if its just in your drive\n",
        "df = spark.read.csv(\n",
        "    \"/content/drive/My Drive/418 Project/bank-additional-full.csv\",\n",
        "    header=True,\n",
        "    inferSchema=True,\n",
        "    sep=';'\n",
        ")"
      ],
      "metadata": {
        "id": "vXU7Si-imF8k"
      },
      "execution_count": null,
      "outputs": []
    },
    {
      "cell_type": "code",
      "source": [
        "from google.colab import drive\n",
        "drive.mount('/content/drive')"
      ],
      "metadata": {
        "id": "Z4VN5kn9jytr",
        "colab": {
          "base_uri": "https://localhost:8080/"
        },
        "outputId": "780eb678-bef3-4a67-b673-1b622a39680b"
      },
      "execution_count": null,
      "outputs": [
        {
          "output_type": "stream",
          "name": "stdout",
          "text": [
            "Drive already mounted at /content/drive; to attempt to forcibly remount, call drive.mount(\"/content/drive\", force_remount=True).\n"
          ]
        }
      ]
    },
    {
      "cell_type": "markdown",
      "source": [
        "##Data Exploration"
      ],
      "metadata": {
        "id": "0aLXk3-UlIHh"
      }
    },
    {
      "cell_type": "code",
      "source": [
        "df.show()"
      ],
      "metadata": {
        "id": "r_m9K9YQpswM",
        "colab": {
          "base_uri": "https://localhost:8080/"
        },
        "outputId": "f8235014-9ec4-4f58-d2f4-062e3290484a"
      },
      "execution_count": null,
      "outputs": [
        {
          "output_type": "stream",
          "name": "stdout",
          "text": [
            "+---+-----------+--------+-------------------+-------+-------+----+---------+-----+-----------+--------+--------+-----+--------+-----------+------------+--------------+-------------+---------+-----------+---+\n",
            "|age|        job| marital|          education|default|housing|loan|  contact|month|day_of_week|duration|campaign|pdays|previous|   poutcome|emp.var.rate|cons.price.idx|cons.conf.idx|euribor3m|nr.employed|  y|\n",
            "+---+-----------+--------+-------------------+-------+-------+----+---------+-----+-----------+--------+--------+-----+--------+-----------+------------+--------------+-------------+---------+-----------+---+\n",
            "| 56|  housemaid| married|           basic.4y|     no|     no|  no|telephone|  may|        mon|     261|       1|  999|       0|nonexistent|         1.1|        93.994|        -36.4|    4.857|     5191.0| no|\n",
            "| 57|   services| married|        high.school|unknown|     no|  no|telephone|  may|        mon|     149|       1|  999|       0|nonexistent|         1.1|        93.994|        -36.4|    4.857|     5191.0| no|\n",
            "| 37|   services| married|        high.school|     no|    yes|  no|telephone|  may|        mon|     226|       1|  999|       0|nonexistent|         1.1|        93.994|        -36.4|    4.857|     5191.0| no|\n",
            "| 40|     admin.| married|           basic.6y|     no|     no|  no|telephone|  may|        mon|     151|       1|  999|       0|nonexistent|         1.1|        93.994|        -36.4|    4.857|     5191.0| no|\n",
            "| 56|   services| married|        high.school|     no|     no| yes|telephone|  may|        mon|     307|       1|  999|       0|nonexistent|         1.1|        93.994|        -36.4|    4.857|     5191.0| no|\n",
            "| 45|   services| married|           basic.9y|unknown|     no|  no|telephone|  may|        mon|     198|       1|  999|       0|nonexistent|         1.1|        93.994|        -36.4|    4.857|     5191.0| no|\n",
            "| 59|     admin.| married|professional.course|     no|     no|  no|telephone|  may|        mon|     139|       1|  999|       0|nonexistent|         1.1|        93.994|        -36.4|    4.857|     5191.0| no|\n",
            "| 41|blue-collar| married|            unknown|unknown|     no|  no|telephone|  may|        mon|     217|       1|  999|       0|nonexistent|         1.1|        93.994|        -36.4|    4.857|     5191.0| no|\n",
            "| 24| technician|  single|professional.course|     no|    yes|  no|telephone|  may|        mon|     380|       1|  999|       0|nonexistent|         1.1|        93.994|        -36.4|    4.857|     5191.0| no|\n",
            "| 25|   services|  single|        high.school|     no|    yes|  no|telephone|  may|        mon|      50|       1|  999|       0|nonexistent|         1.1|        93.994|        -36.4|    4.857|     5191.0| no|\n",
            "| 41|blue-collar| married|            unknown|unknown|     no|  no|telephone|  may|        mon|      55|       1|  999|       0|nonexistent|         1.1|        93.994|        -36.4|    4.857|     5191.0| no|\n",
            "| 25|   services|  single|        high.school|     no|    yes|  no|telephone|  may|        mon|     222|       1|  999|       0|nonexistent|         1.1|        93.994|        -36.4|    4.857|     5191.0| no|\n",
            "| 29|blue-collar|  single|        high.school|     no|     no| yes|telephone|  may|        mon|     137|       1|  999|       0|nonexistent|         1.1|        93.994|        -36.4|    4.857|     5191.0| no|\n",
            "| 57|  housemaid|divorced|           basic.4y|     no|    yes|  no|telephone|  may|        mon|     293|       1|  999|       0|nonexistent|         1.1|        93.994|        -36.4|    4.857|     5191.0| no|\n",
            "| 35|blue-collar| married|           basic.6y|     no|    yes|  no|telephone|  may|        mon|     146|       1|  999|       0|nonexistent|         1.1|        93.994|        -36.4|    4.857|     5191.0| no|\n",
            "| 54|    retired| married|           basic.9y|unknown|    yes| yes|telephone|  may|        mon|     174|       1|  999|       0|nonexistent|         1.1|        93.994|        -36.4|    4.857|     5191.0| no|\n",
            "| 35|blue-collar| married|           basic.6y|     no|    yes|  no|telephone|  may|        mon|     312|       1|  999|       0|nonexistent|         1.1|        93.994|        -36.4|    4.857|     5191.0| no|\n",
            "| 46|blue-collar| married|           basic.6y|unknown|    yes| yes|telephone|  may|        mon|     440|       1|  999|       0|nonexistent|         1.1|        93.994|        -36.4|    4.857|     5191.0| no|\n",
            "| 50|blue-collar| married|           basic.9y|     no|    yes| yes|telephone|  may|        mon|     353|       1|  999|       0|nonexistent|         1.1|        93.994|        -36.4|    4.857|     5191.0| no|\n",
            "| 39| management|  single|           basic.9y|unknown|     no|  no|telephone|  may|        mon|     195|       1|  999|       0|nonexistent|         1.1|        93.994|        -36.4|    4.857|     5191.0| no|\n",
            "+---+-----------+--------+-------------------+-------+-------+----+---------+-----+-----------+--------+--------+-----+--------+-----------+------------+--------------+-------------+---------+-----------+---+\n",
            "only showing top 20 rows\n",
            "\n"
          ]
        }
      ]
    },
    {
      "cell_type": "code",
      "source": [
        "df.printSchema()"
      ],
      "metadata": {
        "id": "6-TAaKasnCw9",
        "colab": {
          "base_uri": "https://localhost:8080/"
        },
        "outputId": "52be50a1-39d2-4071-c475-4bc777d3e20b"
      },
      "execution_count": null,
      "outputs": [
        {
          "output_type": "stream",
          "name": "stdout",
          "text": [
            "root\n",
            " |-- age: integer (nullable = true)\n",
            " |-- job: string (nullable = true)\n",
            " |-- marital: string (nullable = true)\n",
            " |-- education: string (nullable = true)\n",
            " |-- default: string (nullable = true)\n",
            " |-- housing: string (nullable = true)\n",
            " |-- loan: string (nullable = true)\n",
            " |-- contact: string (nullable = true)\n",
            " |-- month: string (nullable = true)\n",
            " |-- day_of_week: string (nullable = true)\n",
            " |-- duration: integer (nullable = true)\n",
            " |-- campaign: integer (nullable = true)\n",
            " |-- pdays: integer (nullable = true)\n",
            " |-- previous: integer (nullable = true)\n",
            " |-- poutcome: string (nullable = true)\n",
            " |-- emp.var.rate: double (nullable = true)\n",
            " |-- cons.price.idx: double (nullable = true)\n",
            " |-- cons.conf.idx: double (nullable = true)\n",
            " |-- euribor3m: double (nullable = true)\n",
            " |-- nr.employed: double (nullable = true)\n",
            " |-- y: string (nullable = true)\n",
            "\n"
          ]
        }
      ]
    },
    {
      "cell_type": "code",
      "source": [
        "from pyspark.sql.functions import col\n",
        "import matplotlib.pyplot as plt\n",
        "\n",
        "#Counts the yes and nos\n",
        "loan_counts = (\n",
        "    df.filter(col(\"loan\").isin(\"yes\",\"no\")) #Had to filter there were a couple of unknowns\n",
        "      .groupBy(\"loan\")\n",
        "      .count()\n",
        "      .orderBy(\"loan\")\n",
        "      .toPandas()\n",
        ")\n",
        "\n",
        "#Makes the plot\n",
        "colors = [\"#F76900\",\"#000E54\"]\n",
        "plt.bar(loan_counts[\"loan\"], loan_counts[\"count\"], color=colors)\n",
        "\n",
        "#Puts labels\n",
        "plt.title(\"Term Deposit Subscription\")\n",
        "plt.xlabel(\"Subscribed\")\n",
        "plt.ylabel(\"Count\")\n",
        "\n",
        "plt.tight_layout()\n",
        "plt.show()\n",
        "\n"
      ],
      "metadata": {
        "id": "Bb6esETMnCtg",
        "colab": {
          "base_uri": "https://localhost:8080/",
          "height": 487
        },
        "outputId": "afce6800-c6ac-487a-94a9-756c1c331cdb"
      },
      "execution_count": null,
      "outputs": [
        {
          "output_type": "display_data",
          "data": {
            "text/plain": [
              "<Figure size 640x480 with 1 Axes>"
            ],
            "image/png": "[encoded data removed]"
          },
          "metadata": {}
        }
      ]
    },
    {
      "cell_type": "code",
      "source": [
        "age_pd = df.select(\"age\").toPandas()\n",
        "\n",
        "plt.hist(age_pd[\"age\"], bins=20)\n",
        "plt.title(\"Age Distribution\")\n",
        "plt.xlabel(\"Age\")\n",
        "plt.ylabel(\"Count\")\n",
        "plt.tight_layout()\n",
        "plt.show()\n"
      ],
      "metadata": {
        "id": "7WxShxmRnCq6",
        "colab": {
          "base_uri": "https://localhost:8080/",
          "height": 487
        },
        "outputId": "0d824bce-01c4-4e87-d727-f7079efb4af0"
      },
      "execution_count": null,
      "outputs": [
        {
          "output_type": "display_data",
          "data": {
            "text/plain": [
              "<Figure size 640x480 with 1 Axes>"
            ],
            "image/png": "[encoded data removed]"
          },
          "metadata": {}
        }
      ]
    },
    {
      "cell_type": "code",
      "source": [
        "from pyspark.sql.functions import col, count, when\n",
        "\n",
        "#Count total and yes counts per month\n",
        "month_counts = (\n",
        "    df.groupBy(\"month\")\n",
        "      .agg(\n",
        "          count(\"*\").alias(\"total\"),\n",
        "          count(when(col(\"y\") == \"yes\", True)).alias(\"yes_count\")\n",
        "      )\n",
        ")\n",
        "\n",
        "#Calculate subscription rate\n",
        "month_rates = (\n",
        "    month_counts.withColumn(\n",
        "        \"subscription_rate\",\n",
        "        col(\"yes_count\") / col(\"total\")\n",
        "    )\n",
        "    .orderBy(\"month\")\n",
        "    .toPandas()\n",
        ")\n",
        "\n",
        "#Plot\n",
        "plt.bar(month_rates[\"month\"], month_rates[\"subscription_rate\"])\n",
        "plt.title(\"Subscription Rate by Month\")\n",
        "plt.xlabel(\"Month\")\n",
        "plt.ylabel(\"Subscription Rate\")\n",
        "plt.tight_layout()\n",
        "plt.show()"
      ],
      "metadata": {
        "id": "V_fHzogAnCl1",
        "colab": {
          "base_uri": "https://localhost:8080/",
          "height": 487
        },
        "outputId": "7e4d00ea-ddc8-4548-be41-7a0436135c66"
      },
      "execution_count": null,
      "outputs": [
        {
          "output_type": "display_data",
          "data": {
            "text/plain": [
              "<Figure size 640x480 with 1 Axes>"
            ],
            "image/png": "[encoded data removed]"
          },
          "metadata": {}
        }
      ]
    },
    {
      "cell_type": "markdown",
      "source": [
        "We were then curious to see how many people were reached out to in each month.\n",
        "\n",
        "*   Target campaigns for: dec, mar, oct, sep\n",
        "*   Avoid may, it had the highest outreach and some of the lowest rates\n",
        "\n"
      ],
      "metadata": {
        "id": "J-foz9stUK40"
      }
    },
    {
      "cell_type": "code",
      "source": [
        "#Calculates subscription rate and total contacts for each month\n",
        "month_stats = (\n",
        "    df.groupBy(\"month\")\n",
        "       .agg(\n",
        "            count(\"*\").alias(\"total_contacts\")\n",
        "       )\n",
        "       .orderBy(\"month\")\n",
        ")\n",
        "\n",
        "#Displays subscription rate and contact counts by month\n",
        "month_stats.show()\n"
      ],
      "metadata": {
        "id": "tvEWi0P4nCiQ",
        "colab": {
          "base_uri": "https://localhost:8080/"
        },
        "outputId": "a8af951a-7ec1-408b-c4a8-dd5b3cccda85"
      },
      "execution_count": null,
      "outputs": [
        {
          "output_type": "stream",
          "name": "stdout",
          "text": [
            "+-----+--------------+\n",
            "|month|total_contacts|\n",
            "+-----+--------------+\n",
            "|  apr|          2632|\n",
            "|  aug|          6178|\n",
            "|  dec|           182|\n",
            "|  jul|          7174|\n",
            "|  jun|          5318|\n",
            "|  mar|           546|\n",
            "|  may|         13769|\n",
            "|  nov|          4101|\n",
            "|  oct|           718|\n",
            "|  sep|           570|\n",
            "+-----+--------------+\n",
            "\n"
          ]
        }
      ]
    },
    {
      "cell_type": "markdown",
      "source": [
        "Next we were worried why there was no data for jan and feb, but apon investigation we discovered this wasnt an error or mistake. The bank does not campaign during these months so there are simply no records."
      ],
      "metadata": {
        "id": "lN2jCmLaVgSo"
      }
    },
    {
      "cell_type": "code",
      "source": [
        "df.groupBy(\"month\").count().orderBy(\"month\").show(20)\n"
      ],
      "metadata": {
        "id": "p1WoFL-anCf4",
        "colab": {
          "base_uri": "https://localhost:8080/"
        },
        "outputId": "0b679bc9-394c-4b05-ee4e-45bac603643b"
      },
      "execution_count": null,
      "outputs": [
        {
          "output_type": "stream",
          "name": "stdout",
          "text": [
            "+-----+-----+\n",
            "|month|count|\n",
            "+-----+-----+\n",
            "|  apr| 2632|\n",
            "|  aug| 6178|\n",
            "|  dec|  182|\n",
            "|  jul| 7174|\n",
            "|  jun| 5318|\n",
            "|  mar|  546|\n",
            "|  may|13769|\n",
            "|  nov| 4101|\n",
            "|  oct|  718|\n",
            "|  sep|  570|\n",
            "+-----+-----+\n",
            "\n"
          ]
        }
      ]
    },
    {
      "cell_type": "markdown",
      "source": [
        "##Data Preprocessing"
      ],
      "metadata": {
        "id": "6W-Nyua1aReT"
      }
    },
    {
      "cell_type": "markdown",
      "source": [
        "We dropped duration as you can't predict the duration of a call before it happens. Therefore it wont help our models. We also felt contact was irrelevant, as it would not really matter whether its a mobile or home phone."
      ],
      "metadata": {
        "id": "xe8sskBDVOgq"
      }
    },
    {
      "cell_type": "code",
      "source": [
        "df = df.drop('duration', 'contact') #drops duration and contact columns"
      ],
      "metadata": {
        "id": "93yf-lauVAbP"
      },
      "execution_count": null,
      "outputs": []
    },
    {
      "cell_type": "markdown",
      "source": [
        "Encode categorical features (StringIndexer + OneHotEncoder)\n",
        "\n",
        "Normalize numerical values if needed (especially for LR)\n",
        "\n",
        "Split into train/test stratified on y"
      ],
      "metadata": {
        "id": "uZCmQ1cCa2dh"
      }
    },
    {
      "cell_type": "code",
      "source": [
        "from pyspark.ml.feature import StringIndexer\n",
        "label_indexer = StringIndexer(inputCol=\"y\", outputCol=\"label\")\n",
        "df = label_indexer.fit(df).transform(df)"
      ],
      "metadata": {
        "id": "_x8pxSUsV_t2"
      },
      "execution_count": null,
      "outputs": []
    },
    {
      "cell_type": "code",
      "source": [
        "categorical_cols = [\"job\", \"marital\", \"education\", \"default\", \"housing\", \"loan\", \"month\", \"poutcome\", 'day_of_week']"
      ],
      "metadata": {
        "id": "gU_vWjaLV_rc"
      },
      "execution_count": null,
      "outputs": []
    },
    {
      "cell_type": "code",
      "source": [
        "from pyspark.ml import Pipeline\n",
        "from pyspark.ml.feature import OneHotEncoder\n",
        "\n",
        "stages = []\n",
        "for cat in categorical_cols:\n",
        "    # StringIndexer transforms the string values into numeric indices.\n",
        "    indexer = StringIndexer(inputCol=cat, outputCol=cat + \"_Index\", handleInvalid=\"keep\")\n",
        "    # OneHotEncoder transforms the indices into one-hot encoded vectors.\n",
        "    encoder = OneHotEncoder(inputCols=[cat + \"_Index\"], outputCols=[cat + \"_Vec\"])\n",
        "    stages += [indexer, encoder]"
      ],
      "metadata": {
        "id": "6HH0KdJbV_pN"
      },
      "execution_count": null,
      "outputs": []
    },
    {
      "cell_type": "code",
      "source": [
        "# Create and fit a Pipeline on your DataFrame\n",
        "pipeline = Pipeline(stages=stages)\n",
        "pipeline_model = pipeline.fit(df)\n",
        "df2 = pipeline_model.transform(df)"
      ],
      "metadata": {
        "id": "_e-ok2OTmqsW"
      },
      "execution_count": null,
      "outputs": []
    },
    {
      "cell_type": "code",
      "source": [
        "df2 = (df2\n",
        "    .withColumnRenamed(\"emp.var.rate\",   \"emp_var_rate\")\n",
        "    .withColumnRenamed(\"cons.price.idx\", \"cons_price_idx\")\n",
        "    .withColumnRenamed(\"cons.conf.idx\",  \"cons_conf_idx\")\n",
        "    .withColumnRenamed(\"nr.employed\",    \"nr_employed\")\n",
        ")"
      ],
      "metadata": {
        "id": "LjSelExcxyn7"
      },
      "execution_count": null,
      "outputs": []
    },
    {
      "cell_type": "code",
      "source": [
        "features_list = [\n",
        "    \"age\", \"campaign\", \"pdays\", \"previous\",\n",
        "    \"emp_var_rate\", \"cons_price_idx\", \"cons_conf_idx\",\n",
        "    \"euribor3m\", \"nr_employed\",\n",
        "    \"job_Vec\", \"marital_Vec\", \"education_Vec\",\n",
        "    \"default_Vec\", \"housing_Vec\", \"loan_Vec\",\n",
        "    \"month_Vec\", \"poutcome_Vec\"\n",
        "]\n"
      ],
      "metadata": {
        "id": "4eIJusudyFsb"
      },
      "execution_count": null,
      "outputs": []
    },
    {
      "cell_type": "code",
      "source": [
        "from pyspark.ml.feature import VectorAssembler\n",
        "assembler = VectorAssembler(inputCols=features_list, outputCol=\"features\")\n",
        "df2 = assembler.transform(df2)"
      ],
      "metadata": {
        "id": "yHf_7rFFz74H"
      },
      "execution_count": null,
      "outputs": []
    },
    {
      "cell_type": "code",
      "source": [
        "from pyspark.ml.feature import StandardScaler\n",
        "scaler = StandardScaler(inputCol=\"features\", outputCol=\"scaledFeatures\", withStd=True, withMean=False)\n",
        "df2 = scaler.fit(df2).transform(df2)"
      ],
      "metadata": {
        "id": "d68kQu4wpXsP"
      },
      "execution_count": null,
      "outputs": []
    },
    {
      "cell_type": "code",
      "source": [
        "train, test = df2.randomSplit([0.8, 0.2], seed=42)"
      ],
      "metadata": {
        "id": "HgPiujoXoyTU"
      },
      "execution_count": null,
      "outputs": []
    },
    {
      "cell_type": "code",
      "source": [
        "df2.show()"
      ],
      "metadata": {
        "id": "oEmJugE0oyQ9",
        "colab": {
          "base_uri": "https://localhost:8080/"
        },
        "outputId": "c21680f9-5cbb-4ede-c7f0-7d38dc4493a0"
      },
      "execution_count": null,
      "outputs": [
        {
          "output_type": "stream",
          "name": "stdout",
          "text": [
            "+---+-----------+--------+-------------------+-------+-------+----+-----+-----------+--------+-----+--------+-----------+------------+--------------+-------------+---------+-----------+---+-----+---------+--------------+-------------+-------------+---------------+-------------+-------------+-------------+-------------+-------------+----------+-------------+-----------+--------------+--------------+-------------+-----------------+---------------+--------------------+--------------------+\n",
            "|age|        job| marital|          education|default|housing|loan|month|day_of_week|campaign|pdays|previous|   poutcome|emp_var_rate|cons_price_idx|cons_conf_idx|euribor3m|nr_employed|  y|label|job_Index|       job_Vec|marital_Index|  marital_Vec|education_Index|education_Vec|default_Index|  default_Vec|housing_Index|  housing_Vec|loan_Index|     loan_Vec|month_Index|     month_Vec|poutcome_Index| poutcome_Vec|day_of_week_Index|day_of_week_Vec|            features|      scaledFeatures|\n",
            "+---+-----------+--------+-------------------+-------+-------+----+-----+-----------+--------+-----+--------+-----------+------------+--------------+-------------+---------+-----------+---+-----+---------+--------------+-------------+-------------+---------------+-------------+-------------+-------------+-------------+-------------+----------+-------------+-----------+--------------+--------------+-------------+-----------------+---------------+--------------------+--------------------+\n",
            "| 56|  housemaid| married|           basic.4y|     no|     no|  no|  may|        mon|       1|  999|       0|nonexistent|         1.1|        93.994|        -36.4|    4.857|     5191.0| no|  0.0|      8.0|(12,[8],[1.0])|          0.0|(4,[0],[1.0])|            4.0|(8,[4],[1.0])|          0.0|(3,[0],[1.0])|          1.0|(3,[1],[1.0])|       0.0|(3,[0],[1.0])|        0.0|(10,[0],[1.0])|           0.0|(3,[0],[1.0])|              1.0|  (5,[1],[1.0])|(55,[0,1,2,4,5,6,...|(55,[0,1,2,4,5,6,...|\n",
            "| 57|   services| married|        high.school|unknown|     no|  no|  may|        mon|       1|  999|       0|nonexistent|         1.1|        93.994|        -36.4|    4.857|     5191.0| no|  0.0|      3.0|(12,[3],[1.0])|          0.0|(4,[0],[1.0])|            1.0|(8,[1],[1.0])|          1.0|(3,[1],[1.0])|          1.0|(3,[1],[1.0])|       0.0|(3,[0],[1.0])|        0.0|(10,[0],[1.0])|           0.0|(3,[0],[1.0])|              1.0|  (5,[1],[1.0])|(55,[0,1,2,4,5,6,...|(55,[0,1,2,4,5,6,...|\n",
            "| 37|   services| married|        high.school|     no|    yes|  no|  may|        mon|       1|  999|       0|nonexistent|         1.1|        93.994|        -36.4|    4.857|     5191.0| no|  0.0|      3.0|(12,[3],[1.0])|          0.0|(4,[0],[1.0])|            1.0|(8,[1],[1.0])|          0.0|(3,[0],[1.0])|          0.0|(3,[0],[1.0])|       0.0|(3,[0],[1.0])|        0.0|(10,[0],[1.0])|           0.0|(3,[0],[1.0])|              1.0|  (5,[1],[1.0])|(55,[0,1,2,4,5,6,...|(55,[0,1,2,4,5,6,...|\n",
            "| 40|     admin.| married|           basic.6y|     no|     no|  no|  may|        mon|       1|  999|       0|nonexistent|         1.1|        93.994|        -36.4|    4.857|     5191.0| no|  0.0|      0.0|(12,[0],[1.0])|          0.0|(4,[0],[1.0])|            5.0|(8,[5],[1.0])|          0.0|(3,[0],[1.0])|          1.0|(3,[1],[1.0])|       0.0|(3,[0],[1.0])|        0.0|(10,[0],[1.0])|           0.0|(3,[0],[1.0])|              1.0|  (5,[1],[1.0])|(55,[0,1,2,4,5,6,...|(55,[0,1,2,4,5,6,...|\n",
            "| 56|   services| married|        high.school|     no|     no| yes|  may|        mon|       1|  999|       0|nonexistent|         1.1|        93.994|        -36.4|    4.857|     5191.0| no|  0.0|      3.0|(12,[3],[1.0])|          0.0|(4,[0],[1.0])|            1.0|(8,[1],[1.0])|          0.0|(3,[0],[1.0])|          1.0|(3,[1],[1.0])|       1.0|(3,[1],[1.0])|        0.0|(10,[0],[1.0])|           0.0|(3,[0],[1.0])|              1.0|  (5,[1],[1.0])|(55,[0,1,2,4,5,6,...|(55,[0,1,2,4,5,6,...|\n",
            "| 45|   services| married|           basic.9y|unknown|     no|  no|  may|        mon|       1|  999|       0|nonexistent|         1.1|        93.994|        -36.4|    4.857|     5191.0| no|  0.0|      3.0|(12,[3],[1.0])|          0.0|(4,[0],[1.0])|            2.0|(8,[2],[1.0])|          1.0|(3,[1],[1.0])|          1.0|(3,[1],[1.0])|       0.0|(3,[0],[1.0])|        0.0|(10,[0],[1.0])|           0.0|(3,[0],[1.0])|              1.0|  (5,[1],[1.0])|(55,[0,1,2,4,5,6,...|(55,[0,1,2,4,5,6,...|\n",
            "| 59|     admin.| married|professional.course|     no|     no|  no|  may|        mon|       1|  999|       0|nonexistent|         1.1|        93.994|        -36.4|    4.857|     5191.0| no|  0.0|      0.0|(12,[0],[1.0])|          0.0|(4,[0],[1.0])|            3.0|(8,[3],[1.0])|          0.0|(3,[0],[1.0])|          1.0|(3,[1],[1.0])|       0.0|(3,[0],[1.0])|        0.0|(10,[0],[1.0])|           0.0|(3,[0],[1.0])|              1.0|  (5,[1],[1.0])|(55,[0,1,2,4,5,6,...|(55,[0,1,2,4,5,6,...|\n",
            "| 41|blue-collar| married|            unknown|unknown|     no|  no|  may|        mon|       1|  999|       0|nonexistent|         1.1|        93.994|        -36.4|    4.857|     5191.0| no|  0.0|      1.0|(12,[1],[1.0])|          0.0|(4,[0],[1.0])|            6.0|(8,[6],[1.0])|          1.0|(3,[1],[1.0])|          1.0|(3,[1],[1.0])|       0.0|(3,[0],[1.0])|        0.0|(10,[0],[1.0])|           0.0|(3,[0],[1.0])|              1.0|  (5,[1],[1.0])|(55,[0,1,2,4,5,6,...|(55,[0,1,2,4,5,6,...|\n",
            "| 24| technician|  single|professional.course|     no|    yes|  no|  may|        mon|       1|  999|       0|nonexistent|         1.1|        93.994|        -36.4|    4.857|     5191.0| no|  0.0|      2.0|(12,[2],[1.0])|          1.0|(4,[1],[1.0])|            3.0|(8,[3],[1.0])|          0.0|(3,[0],[1.0])|          0.0|(3,[0],[1.0])|       0.0|(3,[0],[1.0])|        0.0|(10,[0],[1.0])|           0.0|(3,[0],[1.0])|              1.0|  (5,[1],[1.0])|(55,[0,1,2,4,5,6,...|(55,[0,1,2,4,5,6,...|\n",
            "| 25|   services|  single|        high.school|     no|    yes|  no|  may|        mon|       1|  999|       0|nonexistent|         1.1|        93.994|        -36.4|    4.857|     5191.0| no|  0.0|      3.0|(12,[3],[1.0])|          1.0|(4,[1],[1.0])|            1.0|(8,[1],[1.0])|          0.0|(3,[0],[1.0])|          0.0|(3,[0],[1.0])|       0.0|(3,[0],[1.0])|        0.0|(10,[0],[1.0])|           0.0|(3,[0],[1.0])|              1.0|  (5,[1],[1.0])|(55,[0,1,2,4,5,6,...|(55,[0,1,2,4,5,6,...|\n",
            "| 41|blue-collar| married|            unknown|unknown|     no|  no|  may|        mon|       1|  999|       0|nonexistent|         1.1|        93.994|        -36.4|    4.857|     5191.0| no|  0.0|      1.0|(12,[1],[1.0])|          0.0|(4,[0],[1.0])|            6.0|(8,[6],[1.0])|          1.0|(3,[1],[1.0])|          1.0|(3,[1],[1.0])|       0.0|(3,[0],[1.0])|        0.0|(10,[0],[1.0])|           0.0|(3,[0],[1.0])|              1.0|  (5,[1],[1.0])|(55,[0,1,2,4,5,6,...|(55,[0,1,2,4,5,6,...|\n",
            "| 25|   services|  single|        high.school|     no|    yes|  no|  may|        mon|       1|  999|       0|nonexistent|         1.1|        93.994|        -36.4|    4.857|     5191.0| no|  0.0|      3.0|(12,[3],[1.0])|          1.0|(4,[1],[1.0])|            1.0|(8,[1],[1.0])|          0.0|(3,[0],[1.0])|          0.0|(3,[0],[1.0])|       0.0|(3,[0],[1.0])|        0.0|(10,[0],[1.0])|           0.0|(3,[0],[1.0])|              1.0|  (5,[1],[1.0])|(55,[0,1,2,4,5,6,...|(55,[0,1,2,4,5,6,...|\n",
            "| 29|blue-collar|  single|        high.school|     no|     no| yes|  may|        mon|       1|  999|       0|nonexistent|         1.1|        93.994|        -36.4|    4.857|     5191.0| no|  0.0|      1.0|(12,[1],[1.0])|          1.0|(4,[1],[1.0])|            1.0|(8,[1],[1.0])|          0.0|(3,[0],[1.0])|          1.0|(3,[1],[1.0])|       1.0|(3,[1],[1.0])|        0.0|(10,[0],[1.0])|           0.0|(3,[0],[1.0])|              1.0|  (5,[1],[1.0])|(55,[0,1,2,4,5,6,...|(55,[0,1,2,4,5,6,...|\n",
            "| 57|  housemaid|divorced|           basic.4y|     no|    yes|  no|  may|        mon|       1|  999|       0|nonexistent|         1.1|        93.994|        -36.4|    4.857|     5191.0| no|  0.0|      8.0|(12,[8],[1.0])|          2.0|(4,[2],[1.0])|            4.0|(8,[4],[1.0])|          0.0|(3,[0],[1.0])|          0.0|(3,[0],[1.0])|       0.0|(3,[0],[1.0])|        0.0|(10,[0],[1.0])|           0.0|(3,[0],[1.0])|              1.0|  (5,[1],[1.0])|(55,[0,1,2,4,5,6,...|(55,[0,1,2,4,5,6,...|\n",
            "| 35|blue-collar| married|           basic.6y|     no|    yes|  no|  may|        mon|       1|  999|       0|nonexistent|         1.1|        93.994|        -36.4|    4.857|     5191.0| no|  0.0|      1.0|(12,[1],[1.0])|          0.0|(4,[0],[1.0])|            5.0|(8,[5],[1.0])|          0.0|(3,[0],[1.0])|          0.0|(3,[0],[1.0])|       0.0|(3,[0],[1.0])|        0.0|(10,[0],[1.0])|           0.0|(3,[0],[1.0])|              1.0|  (5,[1],[1.0])|(55,[0,1,2,4,5,6,...|(55,[0,1,2,4,5,6,...|\n",
            "| 54|    retired| married|           basic.9y|unknown|    yes| yes|  may|        mon|       1|  999|       0|nonexistent|         1.1|        93.994|        -36.4|    4.857|     5191.0| no|  0.0|      5.0|(12,[5],[1.0])|          0.0|(4,[0],[1.0])|            2.0|(8,[2],[1.0])|          1.0|(3,[1],[1.0])|          0.0|(3,[0],[1.0])|       1.0|(3,[1],[1.0])|        0.0|(10,[0],[1.0])|           0.0|(3,[0],[1.0])|              1.0|  (5,[1],[1.0])|(55,[0,1,2,4,5,6,...|(55,[0,1,2,4,5,6,...|\n",
            "| 35|blue-collar| married|           basic.6y|     no|    yes|  no|  may|        mon|       1|  999|       0|nonexistent|         1.1|        93.994|        -36.4|    4.857|     5191.0| no|  0.0|      1.0|(12,[1],[1.0])|          0.0|(4,[0],[1.0])|            5.0|(8,[5],[1.0])|          0.0|(3,[0],[1.0])|          0.0|(3,[0],[1.0])|       0.0|(3,[0],[1.0])|        0.0|(10,[0],[1.0])|           0.0|(3,[0],[1.0])|              1.0|  (5,[1],[1.0])|(55,[0,1,2,4,5,6,...|(55,[0,1,2,4,5,6,...|\n",
            "| 46|blue-collar| married|           basic.6y|unknown|    yes| yes|  may|        mon|       1|  999|       0|nonexistent|         1.1|        93.994|        -36.4|    4.857|     5191.0| no|  0.0|      1.0|(12,[1],[1.0])|          0.0|(4,[0],[1.0])|            5.0|(8,[5],[1.0])|          1.0|(3,[1],[1.0])|          0.0|(3,[0],[1.0])|       1.0|(3,[1],[1.0])|        0.0|(10,[0],[1.0])|           0.0|(3,[0],[1.0])|              1.0|  (5,[1],[1.0])|(55,[0,1,2,4,5,6,...|(55,[0,1,2,4,5,6,...|\n",
            "| 50|blue-collar| married|           basic.9y|     no|    yes| yes|  may|        mon|       1|  999|       0|nonexistent|         1.1|        93.994|        -36.4|    4.857|     5191.0| no|  0.0|      1.0|(12,[1],[1.0])|          0.0|(4,[0],[1.0])|            2.0|(8,[2],[1.0])|          0.0|(3,[0],[1.0])|          0.0|(3,[0],[1.0])|       1.0|(3,[1],[1.0])|        0.0|(10,[0],[1.0])|           0.0|(3,[0],[1.0])|              1.0|  (5,[1],[1.0])|(55,[0,1,2,4,5,6,...|(55,[0,1,2,4,5,6,...|\n",
            "| 39| management|  single|           basic.9y|unknown|     no|  no|  may|        mon|       1|  999|       0|nonexistent|         1.1|        93.994|        -36.4|    4.857|     5191.0| no|  0.0|      4.0|(12,[4],[1.0])|          1.0|(4,[1],[1.0])|            2.0|(8,[2],[1.0])|          1.0|(3,[1],[1.0])|          1.0|(3,[1],[1.0])|       0.0|(3,[0],[1.0])|        0.0|(10,[0],[1.0])|           0.0|(3,[0],[1.0])|              1.0|  (5,[1],[1.0])|(55,[0,1,2,4,5,6,...|(55,[0,1,2,4,5,6,...|\n",
            "+---+-----------+--------+-------------------+-------+-------+----+-----+-----------+--------+-----+--------+-----------+------------+--------------+-------------+---------+-----------+---+-----+---------+--------------+-------------+-------------+---------------+-------------+-------------+-------------+-------------+-------------+----------+-------------+-----------+--------------+--------------+-------------+-----------------+---------------+--------------------+--------------------+\n",
            "only showing top 20 rows\n",
            "\n"
          ]
        }
      ]
    },
    {
      "cell_type": "markdown",
      "source": [
        "##Unsupervised Models"
      ],
      "metadata": {
        "id": "mguX2eONlc_8"
      }
    },
    {
      "cell_type": "markdown",
      "source": [
        "###Clustering - All Data"
      ],
      "metadata": {
        "id": "JUFBd_b8nVta"
      }
    },
    {
      "cell_type": "markdown",
      "source": [
        "The Model + identifying top 5 features"
      ],
      "metadata": {
        "id": "N7-pQpIEvuvJ"
      }
    },
    {
      "cell_type": "code",
      "source": [
        "from pyspark.ml.clustering import KMeans\n",
        "from pyspark.ml.evaluation import ClusteringEvaluator\n",
        "import pandas as pd\n",
        "\n",
        "#Training KMeans\n",
        "k = 2\n",
        "kmeans = KMeans(\n",
        "    featuresCol=\"scaledFeatures\",\n",
        "    k=k,\n",
        "    seed=42\n",
        ")\n",
        "km_model = kmeans.fit(df2)\n",
        "\n",
        "predictions_km = km_model.transform(df2)\n",
        "evaluator = ClusteringEvaluator(\n",
        "    featuresCol=\"scaledFeatures\",\n",
        "    metricName=\"silhouette\",\n",
        "    distanceMeasure=\"squaredEuclidean\"\n",
        ")\n",
        "silhouette = evaluator.evaluate(predictions_km)\n",
        "print(f\"Silhouette score = {silhouette:.4f}\")\n",
        "\n",
        "centers = km_model.clusterCenters()\n",
        "\n",
        "meta = df2.schema[\"features\"].metadata[\"ml_attr\"][\"attrs\"]\n",
        "attrs = []\n",
        "for group in meta.values():\n",
        "    attrs += group\n",
        "attrs_sorted = sorted(attrs, key=lambda x: x[\"idx\"])\n",
        "feature_names = [a[\"name\"] for a in attrs_sorted]\n",
        "\n",
        "centers_df = pd.DataFrame(centers, columns=feature_names)\n",
        "print(\"Cluster centers (first few columns):\")\n",
        "print(centers_df.iloc[:, :5])  # show first 5 features\n",
        "\n",
        "#For each cluster, it shows the top 5 distinguishing features\n",
        "for cid, row in centers_df.iterrows():\n",
        "    top5 = row.abs().sort_values(ascending=False).head(5)\n",
        "    print(f\"\\nCluster {cid} top 5 features:\")\n",
        "    print(top5)\n"
      ],
      "metadata": {
        "colab": {
          "base_uri": "https://localhost:8080/"
        },
        "id": "eb6x6FOXp_Kc",
        "outputId": "6dce7e3a-8bbc-4026-b246-35115b0cde38"
      },
      "execution_count": null,
      "outputs": [
        {
          "output_type": "stream",
          "name": "stdout",
          "text": [
            "Silhouette score = 0.1728\n",
            "Cluster centers (first few columns):\n",
            "        age  campaign     pdays  previous  emp_var_rate\n",
            "0  3.843956  0.924694  5.149041  0.349723      0.051020\n",
            "1  3.824974  0.937387  5.150977  0.348400      0.057306\n",
            "\n",
            "Cluster 0 top 5 features:\n",
            "cons_price_idx    161.660207\n",
            "nr_employed        71.512959\n",
            "cons_conf_idx       8.746662\n",
            "pdays               5.149041\n",
            "age                 3.843956\n",
            "Name: 0, dtype: float64\n",
            "\n",
            "Cluster 1 top 5 features:\n",
            "cons_price_idx    161.662787\n",
            "nr_employed        71.522044\n",
            "cons_conf_idx       8.772871\n",
            "pdays               5.150977\n",
            "age                 3.824974\n",
            "Name: 1, dtype: float64\n"
          ]
        }
      ]
    },
    {
      "cell_type": "markdown",
      "source": [
        "The accuracy and f1 score"
      ],
      "metadata": {
        "id": "wK_01Le2vryc"
      }
    },
    {
      "cell_type": "code",
      "source": [
        "from pyspark.sql.functions import row_number, when\n",
        "from pyspark.sql.window    import Window\n",
        "from pyspark.ml.evaluation import MulticlassClassificationEvaluator\n",
        "\n",
        "predictions_km = km_model.transform(df2)\n",
        "\n",
        "cluster_counts = (\n",
        "    predictions_km\n",
        "      .groupBy(\"prediction\", \"y\")\n",
        "      .count()\n",
        ")\n",
        "window = Window.partitionBy(\"prediction\").orderBy(col(\"count\").desc())\n",
        "majority_df = (\n",
        "    cluster_counts\n",
        "      .withColumn(\"rn\", row_number().over(window))\n",
        "      .filter(col(\"rn\") == 1)\n",
        "      .select(\"prediction\", \"y\")\n",
        ")\n",
        "mapping = {row['prediction']: row['y'] for row in majority_df.collect()}\n",
        "\n",
        "pred_labeled = predictions_km.withColumn(\n",
        "    \"predicted_label\",\n",
        "    when(col(\"prediction\") == 0, mapping[0])\n",
        "    .otherwise(mapping[1])\n",
        ")\n",
        "\n",
        "indexer = StringIndexer(\n",
        "    inputCols=[\"y\", \"predicted_label\"],\n",
        "    outputCols=[\"trueIndex\", \"predIndex\"]\n",
        ").fit(pred_labeled)\n",
        "pred_indexed = indexer.transform(pred_labeled)\n",
        "\n",
        "e_acc = MulticlassClassificationEvaluator(\n",
        "    labelCol=\"trueIndex\", predictionCol=\"predIndex\", metricName=\"accuracy\"\n",
        ")\n",
        "e_f1 = MulticlassClassificationEvaluator(\n",
        "    labelCol=\"trueIndex\", predictionCol=\"predIndex\", metricName=\"f1\"\n",
        ")\n",
        "acc = e_acc.evaluate(pred_indexed)\n",
        "f1  = e_f1.evaluate(pred_indexed)\n",
        "\n",
        "print(f\"Clustering‐based accuracy: {acc:.4f}\")\n",
        "print(f\"Clustering‐based F1 score: {f1:.4f}\")\n"
      ],
      "metadata": {
        "id": "6BlP0v0VFw8X",
        "colab": {
          "base_uri": "https://localhost:8080/"
        },
        "outputId": "d60c2266-7d2a-4d20-b491-fff6183661a9"
      },
      "execution_count": null,
      "outputs": [
        {
          "output_type": "stream",
          "name": "stdout",
          "text": [
            "Clustering‐based accuracy: 0.8873\n",
            "Clustering‐based F1 score: 0.8344\n"
          ]
        }
      ]
    },
    {
      "cell_type": "markdown",
      "source": [
        "##Supervised Models"
      ],
      "metadata": {
        "id": "5od4I2WJl0t-"
      }
    },
    {
      "cell_type": "markdown",
      "source": [
        "###Decision Tree - All Data"
      ],
      "metadata": {
        "id": "zvcHoRZRp3lj"
      }
    },
    {
      "cell_type": "code",
      "source": [
        "from pyspark.ml.classification import DecisionTreeClassifier\n",
        "from pyspark.ml.evaluation import MulticlassClassificationEvaluator, BinaryClassificationEvaluator, RegressionEvaluator\n",
        "from pyspark.ml.functions import vector_to_array\n",
        "\n",
        "#Adding class weights\n",
        "counts = dict(df2.groupBy(\"label\").count()\n",
        "                  .rdd.map(lambda r: (r[\"label\"], r[\"count\"])).collect())\n",
        "\n",
        "majority = max(counts, key=counts.get)\n",
        "minority = min(counts, key=counts.get)\n",
        "ratio = counts[majority] / counts[minority]\n",
        "\n",
        "df_weighted = df2.withColumn(\n",
        "    \"classWeightCol\",\n",
        "    when(col(\"label\") == minority, ratio).otherwise(1.0)\n",
        ")\n",
        "\n",
        "dt_weighted = DecisionTreeClassifier(\n",
        "    featuresCol=\"scaledFeatures\",\n",
        "    labelCol=\"label\",\n",
        "    weightCol=\"classWeightCol\",\n",
        "    maxDepth=5\n",
        ")\n",
        "dtw_model = dt_weighted.fit(df_weighted)\n",
        "\n",
        "test_weighted = test.withColumn(\n",
        "    \"classWeightCol\",\n",
        "    when(col(\"label\") == minority, ratio).otherwise(1.0)\n",
        ")\n",
        "preds_w = dtw_model.transform(test_weighted)"
      ],
      "metadata": {
        "id": "ZX8Dw8gXp7fi"
      },
      "execution_count": null,
      "outputs": []
    },
    {
      "cell_type": "markdown",
      "source": [
        "F1 Score, AUC, Accuracy, Recall"
      ],
      "metadata": {
        "id": "cpq18EzztLK1"
      }
    },
    {
      "cell_type": "code",
      "source": [
        "acc_evaluator = MulticlassClassificationEvaluator(\n",
        "    labelCol=\"label\",\n",
        "    predictionCol=\"prediction\",\n",
        "    metricName=\"accuracy\"\n",
        ")\n",
        "f1_evaluator = MulticlassClassificationEvaluator(\n",
        "    labelCol=\"label\",\n",
        "    predictionCol=\"prediction\",\n",
        "    metricName=\"f1\"\n",
        ")\n",
        "auc_evaluator = BinaryClassificationEvaluator(\n",
        "    labelCol=\"label\",\n",
        "    rawPredictionCol=\"probability\",\n",
        "    metricName=\"areaUnderROC\"\n",
        ")\n",
        "recall_evaluator = MulticlassClassificationEvaluator(\n",
        "    labelCol=\"label\",\n",
        "    predictionCol=\"prediction\",\n",
        "    metricName=\"weightedRecall\"\n",
        ")\n",
        "\n",
        "accuracy_w = acc_evaluator.evaluate(preds_w)\n",
        "f1_w       = f1_evaluator.evaluate(preds_w)\n",
        "auc_w      = auc_evaluator.evaluate(preds_w)\n",
        "rec_w = recall_evaluator.evaluate(preds_w)\n",
        "\n",
        "print(f\"Weighted Model Accuracy: {accuracy_w:.4f}\")\n",
        "print(f\"Weighted Model F1 Score: {f1_w:.4f}\")\n",
        "print(f\"Weighted Model AUC: {auc_w:.4f}\")\n",
        "print(f\"Weighted Model Recall: {rec_w:.4f}\")"
      ],
      "metadata": {
        "id": "JU9CjBhVRakh",
        "colab": {
          "base_uri": "https://localhost:8080/"
        },
        "outputId": "9644db76-6354-4313-cbff-5223526666e0"
      },
      "execution_count": null,
      "outputs": [
        {
          "output_type": "stream",
          "name": "stdout",
          "text": [
            "Weighted Model Accuracy: 0.8127\n",
            "Weighted Model F1 Score: 0.8375\n",
            "Weighted Model AUC: 0.7874\n",
            "Weighted Model Recall: 0.8127\n"
          ]
        }
      ]
    },
    {
      "cell_type": "markdown",
      "source": [
        "Top Features by Importance"
      ],
      "metadata": {
        "id": "s6un3WpxDKtu"
      }
    },
    {
      "cell_type": "code",
      "source": [
        "importances = dtw_model.featureImportances.toArray().tolist()\n",
        "\n",
        "meta = df_weighted.schema[\"features\"].metadata[\"ml_attr\"][\"attrs\"]\n",
        "attrs = []\n",
        "for group in meta.values():\n",
        "    attrs.extend(group)\n",
        "\n",
        "attrs_sorted = sorted(attrs, key=lambda x: x[\"idx\"])\n",
        "feature_names = [a[\"name\"] for a in attrs_sorted]\n",
        "\n",
        "fi_df = pd.DataFrame({\n",
        "    \"feature\": feature_names,\n",
        "    \"importance\": importances\n",
        "})\n",
        "\n",
        "top10 = fi_df.sort_values(\"importance\", ascending=False).head(10)\n",
        "\n",
        "plt.figure(figsize=(8, 6))\n",
        "plt.barh(top10[\"feature\"][::-1], top10[\"importance\"][::-1])\n",
        "plt.xlabel(\"Importance\")\n",
        "plt.title(\"Top 10 Feature Importances (Decision Tree)\")\n",
        "plt.tight_layout()\n",
        "plt.show()"
      ],
      "metadata": {
        "id": "UlQ40FW-DJ_6",
        "colab": {
          "base_uri": "https://localhost:8080/",
          "height": 607
        },
        "outputId": "0c7a9311-aec5-403a-c44b-9c2bc8edf2b8"
      },
      "execution_count": null,
      "outputs": [
        {
          "output_type": "display_data",
          "data": {
            "text/plain": [
              "<Figure size 800x600 with 1 Axes>"
            ],
            "image/png": "[encoded data removed]"
          },
          "metadata": {}
        }
      ]
    },
    {
      "cell_type": "markdown",
      "source": [
        "###Logistic Regression - All Data Except Econ"
      ],
      "metadata": {
        "id": "L7_k2fmmoUd7"
      }
    },
    {
      "cell_type": "markdown",
      "source": [
        "With this model we decided to test a dataset of everything except the economical features as they were driving our other models."
      ],
      "metadata": {
        "id": "7ClhbYRzp798"
      }
    },
    {
      "cell_type": "code",
      "source": [
        "from pyspark.ml.feature import VectorAssembler\n",
        "from pyspark.ml.classification import LogisticRegression\n",
        "\n",
        "# Drop just econ variables + the known leakage columns\n",
        "df3 = df2.drop(\"emp_var_rate\", \"cons_price_idx\", \"cons_conf_idx\", \"euribor3m\", \"nr_employed\", \"pdays\", \"poutcome\", 'weight')\n",
        "\n",
        "# Define the non-economic features — ALL numeric columns except the econ variables and label\n",
        "all_feats = [\n",
        "    c for c, t in df3.dtypes\n",
        "    if t in (\"double\",\"int\",\"float\",\"long\") and c != \"label\"\n",
        "]\n",
        "\n",
        "# Assemble features\n",
        "assembler = VectorAssembler(inputCols=all_feats, outputCol=\"features_non_econ\")\n",
        "df3 = assembler.transform(df3)\n",
        "\n",
        "# Split into train/test sets\n",
        "train_non, test_non = df3.randomSplit([0.7,0.3], seed=42)\n",
        "\n",
        "# Fit Logistic Regression\n",
        "lr = LogisticRegression(\n",
        "    labelCol=\"label\",\n",
        "    featuresCol=\"features_non_econ\",\n",
        "    maxIter=20,\n",
        "    regParam=0.1\n",
        ")\n",
        "lrModel = lr.fit(train_non)\n",
        "\n",
        "# Make predictions\n",
        "preds_lr = lrModel.transform(test_non)\n"
      ],
      "metadata": {
        "id": "CPtFt4gK6Lnn"
      },
      "execution_count": null,
      "outputs": []
    },
    {
      "cell_type": "code",
      "source": [
        "#Show confusion matrix\n",
        "preds_lr.groupBy(\"label\",\"prediction\").count().show()"
      ],
      "metadata": {
        "colab": {
          "base_uri": "https://localhost:8080/"
        },
        "id": "OBWPQsw8dnRK",
        "outputId": "425641c4-e55d-44e0-ba1e-4e5cd9d4fade"
      },
      "execution_count": null,
      "outputs": [
        {
          "output_type": "stream",
          "name": "stdout",
          "text": [
            "+-----+----------+-----+\n",
            "|label|prediction|count|\n",
            "+-----+----------+-----+\n",
            "|  1.0|       0.0| 1340|\n",
            "|  0.0|       0.0|10843|\n",
            "|  1.0|       1.0|   42|\n",
            "|  0.0|       1.0|   20|\n",
            "+-----+----------+-----+\n",
            "\n"
          ]
        }
      ]
    },
    {
      "cell_type": "markdown",
      "source": [
        "Top coefficients"
      ],
      "metadata": {
        "id": "sJmQZJqDiw4a"
      }
    },
    {
      "cell_type": "code",
      "source": [
        "#Print top 10 non-economic coefficients\n",
        "coef_pairs = list(zip(all_feats, lrModel.coefficients))\n",
        "top10 = sorted(coef_pairs, key=lambda x: abs(x[1]), reverse=True)[:10]\n",
        "print(\"Top 10 Non-Econ Feature Coefficients:\")\n",
        "for name, coef in top10:\n",
        "    print(f\"  {name:25s} : {coef:+.4f}\")\n"
      ],
      "metadata": {
        "colab": {
          "base_uri": "https://localhost:8080/"
        },
        "id": "VFh4b4Vmdn_z",
        "outputId": "a1098b03-0fc1-47bb-faf2-d5569fa4f548"
      },
      "execution_count": null,
      "outputs": [
        {
          "output_type": "stream",
          "name": "stdout",
          "text": [
            "Top 10 Non-Econ Feature Coefficients:\n",
            "  poutcome_Index            : +0.5302\n",
            "  default_Index             : -0.2923\n",
            "  previous                  : +0.2621\n",
            "  month_Index               : +0.1283\n",
            "  marital_Index             : +0.0352\n",
            "  housing_Index             : -0.0307\n",
            "  campaign                  : -0.0296\n",
            "  job_Index                 : +0.0240\n",
            "  education_Index           : -0.0111\n",
            "  day_of_week_Index         : -0.0057\n"
          ]
        }
      ]
    },
    {
      "cell_type": "markdown",
      "source": [
        "Evaluate Accuracy F1 Precision Recall AUC"
      ],
      "metadata": {
        "id": "DNgzkBlrdxiY"
      }
    },
    {
      "cell_type": "code",
      "source": [
        "# Calculate Accuracy\n",
        "evaluator_acc = MulticlassClassificationEvaluator(\n",
        "    labelCol=\"label\", predictionCol=\"prediction\", metricName=\"accuracy\"\n",
        ")\n",
        "acc = evaluator_acc.evaluate(preds_lr)\n",
        "print(f\"Accuracy: {acc:.4f}\")\n",
        "\n",
        "# Calculate F1 score\n",
        "evaluator_f1 = MulticlassClassificationEvaluator(\n",
        "    labelCol=\"label\", predictionCol=\"prediction\", metricName=\"f1\"\n",
        ")\n",
        "f1 = evaluator_f1.evaluate(preds_lr)\n",
        "print(f\"F1 Score: {f1:.4f}\")\n",
        "\n",
        "# Calculate Precision\n",
        "evaluator_prec = MulticlassClassificationEvaluator(\n",
        "    labelCol=\"label\", predictionCol=\"prediction\", metricName=\"weightedPrecision\"\n",
        ")\n",
        "prec = evaluator_prec.evaluate(preds_lr)\n",
        "print(f\"Precision: {prec:.4f}\")\n",
        "\n",
        "# Calculate Recall\n",
        "evaluator_rec = MulticlassClassificationEvaluator(\n",
        "    labelCol=\"label\", predictionCol=\"prediction\", metricName=\"weightedRecall\"\n",
        ")\n",
        "rec = evaluator_rec.evaluate(preds_lr)\n",
        "print(f\"Recall: {rec:.4f}\")\n",
        "\n",
        "# Calculate AUC\n",
        "evaluator_auc = BinaryClassificationEvaluator(\n",
        "    labelCol=\"label\", rawPredictionCol=\"rawPrediction\", metricName=\"areaUnderROC\"\n",
        ")\n",
        "auc = evaluator_auc.evaluate(preds_lr)\n",
        "print(f\"AUC: {auc:.4f}\")\n"
      ],
      "metadata": {
        "colab": {
          "base_uri": "https://localhost:8080/"
        },
        "id": "LIa2mElgdn9P",
        "outputId": "dd526ed8-c819-4b36-9d8f-634dbbb3acfb"
      },
      "execution_count": null,
      "outputs": [
        {
          "output_type": "stream",
          "name": "stdout",
          "text": [
            "Accuracy: 0.8889\n",
            "F1 Score: 0.8414\n",
            "Precision: 0.8660\n",
            "Recall: 0.8889\n",
            "AUC: 0.7277\n"
          ]
        }
      ]
    },
    {
      "cell_type": "markdown",
      "source": [
        "Creates visual"
      ],
      "metadata": {
        "id": "EIMeKJk2i3ug"
      }
    },
    {
      "cell_type": "code",
      "source": [
        "# Extract top feature coefficients\n",
        "coef_pairs = list(zip(all_feats, lrModel.coefficients))\n",
        "top10 = sorted(coef_pairs, key=lambda x: abs(x[1]), reverse=True)[:10]\n",
        "labels, values = zip(*top10)\n",
        "\n",
        "# Make labels readable\n",
        "display_labels = [lbl.replace(\"_\", \" \").title() for lbl in labels]\n",
        "\n",
        "plt.figure(figsize=(8,5))\n",
        "bars = plt.barh(display_labels, values, color=colors)\n",
        "plt.axvline(0, color=\"black\")\n",
        "plt.title(\"Top 10 Non-Economic Feature Coefficients\")\n",
        "plt.xlabel(\"Coefficient Value\")\n",
        "\n",
        "plt.tight_layout()\n",
        "plt.show()\n"
      ],
      "metadata": {
        "id": "KOmqydlE9ioh",
        "colab": {
          "base_uri": "https://localhost:8080/",
          "height": 507
        },
        "outputId": "bda56716-5b06-4ad4-81b6-f7d2b16afbe8"
      },
      "execution_count": null,
      "outputs": [
        {
          "output_type": "display_data",
          "data": {
            "text/plain": [
              "<Figure size 800x500 with 1 Axes>"
            ],
            "image/png": "[encoded data removed]"
          },
          "metadata": {}
        }
      ]
    },
    {
      "cell_type": "markdown",
      "source": [
        "###Random Forest - All Data"
      ],
      "metadata": {
        "id": "WuOyP-uepKsy"
      }
    },
    {
      "cell_type": "code",
      "source": [
        "#dealing with dataset imbalance\n",
        "\n",
        "from pyspark.sql.functions import udf\n",
        "from pyspark.sql.types import DoubleType\n",
        "\n",
        "# Step 1: Get class distribution\n",
        "label_counts = df2.groupBy(\"label\").count().collect()\n",
        "count_dict = {row['label']: row['count'] for row in label_counts}\n",
        "majority = max(count_dict.values())\n",
        "class_weights = {label: majority / count for label, count in count_dict.items()}\n",
        "\n",
        "# Step 2: Define and apply UDF\n",
        "def calc_weight(label):\n",
        "    return float(class_weights[label])\n",
        "\n",
        "weight_udf = udf(calc_weight, DoubleType())\n",
        "df2 = df2.withColumn(\"weight\", weight_udf(\"label\"))\n"
      ],
      "metadata": {
        "id": "9AgLzlNXpyGg"
      },
      "execution_count": null,
      "outputs": []
    },
    {
      "cell_type": "code",
      "source": [
        "train, test = df2.randomSplit([0.8, 0.2], seed=42)"
      ],
      "metadata": {
        "id": "FyLqw3-vD4Be"
      },
      "execution_count": null,
      "outputs": []
    },
    {
      "cell_type": "code",
      "source": [
        "from pyspark.ml.classification import RandomForestClassifier\n",
        "\n",
        "rf = RandomForestClassifier(\n",
        "    featuresCol=\"scaledFeatures\", labelCol=\"label\",\n",
        "    weightCol=\"weight\", numTrees=55, seed=42\n",
        ")\n",
        "rf_model = rf.fit(train)"
      ],
      "metadata": {
        "id": "LEodclNED9bN"
      },
      "execution_count": null,
      "outputs": []
    },
    {
      "cell_type": "markdown",
      "source": [
        "Evaluate Accuracy F1 Precision Recall AUC"
      ],
      "metadata": {
        "id": "4T3qAbEzetW-"
      }
    },
    {
      "cell_type": "code",
      "source": [
        "from pyspark.ml.evaluation import MulticlassClassificationEvaluator\n",
        "from pyspark.ml.evaluation import BinaryClassificationEvaluator\n",
        "from pyspark.mllib.evaluation import MulticlassMetrics\n",
        "\n",
        "predictions = rf_model.transform(test)\n",
        "\n",
        "evaluator = MulticlassClassificationEvaluator(labelCol=\"label\", predictionCol=\"prediction\", metricName=\"accuracy\")\n",
        "\n",
        "#outputs model accuracy\n",
        "accuracy = evaluator.evaluate(predictions)\n",
        "print(f\"Accuracy: {accuracy:.4f}\")\n",
        "\n",
        "#outputs model AUC\n",
        "evaluator = BinaryClassificationEvaluator(labelCol=\"label\", rawPredictionCol=\"rawPrediction\", metricName=\"areaUnderROC\")\n",
        "auc = evaluator.evaluate(predictions)\n",
        "print(f\"AUC: {auc:.4f}\")\n",
        "\n",
        "#calculate confusion matrix\n",
        "pred_rdd = predictions.select(\"prediction\", \"label\").rdd.map(tuple)\n",
        "metrics = MulticlassMetrics(pred_rdd)\n",
        "\n",
        "cm = metrics.confusionMatrix()\n",
        "print(\"Confusion Matrix:\")\n",
        "print(cm)\n",
        "\n",
        "#outputs precision, recall, and F1 scores\n",
        "precision = metrics.precision(1.0)\n",
        "recall = metrics.recall(1.0)\n",
        "f1 = metrics.fMeasure(1.0)\n",
        "\n",
        "print(f\"Precision: {precision:.4f}\")\n",
        "print(f\"Recall:    {recall:.4f}\")\n",
        "print(f\"F1 Score:  {f1:.4f}\")"
      ],
      "metadata": {
        "id": "PgzWf5ujD_O8",
        "colab": {
          "base_uri": "https://localhost:8080/"
        },
        "outputId": "d3f0c65d-a903-44d8-bb6b-566f7c4a8aa3"
      },
      "execution_count": null,
      "outputs": [
        {
          "output_type": "stream",
          "name": "stdout",
          "text": [
            "Accuracy: 0.8323\n",
            "AUC: 0.7933\n"
          ]
        },
        {
          "output_type": "stream",
          "name": "stderr",
          "text": [
            "/usr/local/lib/python3.11/dist-packages/pyspark/sql/context.py:158: FutureWarning: Deprecated in 3.0.0. Use SparkSession.builder.getOrCreate() instead.\n",
            "  warnings.warn(\n"
          ]
        },
        {
          "output_type": "stream",
          "name": "stdout",
          "text": [
            "Confusion Matrix:\n",
            "DenseMatrix([[6239., 1051.],\n",
            "             [ 326.,  595.]])\n",
            "Precision: 0.3615\n",
            "Recall:    0.6460\n",
            "F1 Score:  0.4636\n"
          ]
        }
      ]
    },
    {
      "cell_type": "code",
      "source": [
        "#looking at feature importance\n",
        "\n",
        "final_features = assembler.getInputCols()\n",
        "\n",
        "importances = rf_model.featureImportances\n",
        "\n",
        "feature_importance_list = list(zip(final_features, importances))\n",
        "\n",
        "sorted_importance = sorted(feature_importance_list, key=lambda x: x[1], reverse=True)\n",
        "\n",
        "print(\"Feature Importances:\")\n",
        "for feature, score in sorted_importance:\n",
        "    print(f\"{feature}: {score:.4f}\")\n"
      ],
      "metadata": {
        "id": "wgf23HpqEHDK",
        "colab": {
          "base_uri": "https://localhost:8080/"
        },
        "outputId": "bfccf677-10e5-4dab-fbca-6c59be13c401"
      },
      "execution_count": null,
      "outputs": [
        {
          "output_type": "stream",
          "name": "stdout",
          "text": [
            "Feature Importances:\n",
            "housing_Index: 0.2101\n",
            "loan_Index: 0.1647\n",
            "marital_Index: 0.1602\n",
            "default_Index: 0.1113\n",
            "previous: 0.0547\n",
            "education_Index: 0.0379\n",
            "age: 0.0125\n",
            "campaign: 0.0017\n",
            "job_Index: 0.0017\n",
            "poutcome_Index: 0.0013\n",
            "month_Index: 0.0001\n",
            "day_of_week_Index: 0.0001\n"
          ]
        }
      ]
    },
    {
      "cell_type": "markdown",
      "source": [
        "###Gradient Boosting - Econ Data"
      ],
      "metadata": {
        "id": "xy1PzEMqnuAo"
      }
    },
    {
      "cell_type": "markdown",
      "source": [
        "Tested many different parameter combinations, the selected yielded the highest results."
      ],
      "metadata": {
        "id": "jZgdouBLqAKw"
      }
    },
    {
      "cell_type": "markdown",
      "source": [
        "####Here were some of the other combos:"
      ],
      "metadata": {
        "id": "9PKbXNuagZDr"
      }
    },
    {
      "cell_type": "markdown",
      "source": [
        "* maxIter=30, maxDepth=4, stepSize=0.05 → AUC: 0.7959\n",
        "* maxIter=30, maxDepth=4, stepSize=0.1 → AUC: 0.7962\n",
        "*maxIter=30, maxDepth=5, stepSize=0.05 → AUC: 0.7962\n",
        "*maxIter=30, maxDepth=5, stepSize=0.1 → AUC: 0.7970\n",
        "*maxIter=30, maxDepth=6, stepSize=0.05 → AUC: 0.7974\n",
        "*maxIter=30, maxDepth=6, stepSize=0.1 → AUC: 0.7975\n",
        "*maxIter=50, maxDepth=4, stepSize=0.05 → AUC: 0.7960\n",
        "*maxIter=50, maxDepth=4, stepSize=0.1 → AUC: 0.7978\n",
        "*maxIter=50, maxDepth=5, stepSize=0.05 → AUC: 0.7969\n",
        "*maxIter=50, maxDepth=5, stepSize=0.1 → AUC: 0.7972\n",
        "*maxIter=50, maxDepth=6, stepSize=0.05 → AUC: 0.7974\n",
        "*maxIter=50, maxDepth=6, stepSize=0.1 → AUC: 0.7978\n",
        "*maxIter=70, maxDepth=4, stepSize=0.05 → AUC: 0.7952\n",
        "*maxIter=70, maxDepth=4, stepSize=0.1 → AUC: 0.7967\n",
        "*maxIter=70, maxDepth=5, stepSize=0.05 → AUC: 0.7968\n",
        "*maxIter=70, maxDepth=5, stepSize=0.1 → AUC: 0.7972\n",
        "*maxIter=70, maxDepth=6, stepSize=0.05 → AUC: 0.7973\n",
        "*maxIter=70, maxDepth=6, stepSize=0.1 → AUC: 0.7977"
      ],
      "metadata": {
        "id": "CAAcv2YWgeGz"
      }
    },
    {
      "cell_type": "markdown",
      "source": [
        "####Builds the model\n",
        "This is the base model trained on all data"
      ],
      "metadata": {
        "id": "UnjrI9YXgPVs"
      }
    },
    {
      "cell_type": "code",
      "execution_count": null,
      "metadata": {
        "id": "nX2x0OQdi7ne"
      },
      "outputs": [],
      "source": [
        "from pyspark.ml.classification import GBTClassifier\n",
        "from pyspark.ml.evaluation import BinaryClassificationEvaluator\n",
        "\n",
        "#Trains the model\n",
        "gbt = GBTClassifier(\n",
        "    labelCol=\"label\",\n",
        "    featuresCol=\"features\",  #used unscaled features cause tree based model\n",
        "    maxIter=70,\n",
        "    maxDepth=4,\n",
        "    stepSize=0.05\n",
        ")\n",
        "\n",
        "#Fits model\n",
        "gbt_model = gbt.fit(train)\n",
        "predictions = gbt_model.transform(test)"
      ]
    },
    {
      "cell_type": "markdown",
      "source": [
        "We chose to use AUC due to the imbalance in our dataset."
      ],
      "metadata": {
        "id": "v6s1R5fAr93T"
      }
    },
    {
      "cell_type": "code",
      "source": [
        "#Evaluates the AUC\n",
        "evaluator = BinaryClassificationEvaluator(labelCol=\"label\", rawPredictionCol=\"rawPrediction\", metricName=\"areaUnderROC\")\n",
        "auc = evaluator.evaluate(predictions)\n",
        "print(f\"AUC Score: {auc:.4f}\")"
      ],
      "metadata": {
        "id": "X0uALZ26i_2Y",
        "colab": {
          "base_uri": "https://localhost:8080/"
        },
        "outputId": "69a25c81-e39d-496d-ca51-ab24fc40b6c3"
      },
      "execution_count": null,
      "outputs": [
        {
          "output_type": "stream",
          "name": "stdout",
          "text": [
            "AUC Score: 0.7993\n"
          ]
        }
      ]
    },
    {
      "cell_type": "code",
      "source": [
        "predictions.groupBy(\"label\", \"prediction\").count().show()"
      ],
      "metadata": {
        "id": "akrHQ8hMi_xt",
        "colab": {
          "base_uri": "https://localhost:8080/"
        },
        "outputId": "6cfde185-29ee-4dcf-850b-c11ea53ef3b9"
      },
      "execution_count": null,
      "outputs": [
        {
          "output_type": "stream",
          "name": "stdout",
          "text": [
            "+-----+----------+-----+\n",
            "|label|prediction|count|\n",
            "+-----+----------+-----+\n",
            "|  1.0|       1.0|  205|\n",
            "|  0.0|       1.0|  118|\n",
            "|  1.0|       0.0|  716|\n",
            "|  0.0|       0.0| 7172|\n",
            "+-----+----------+-----+\n",
            "\n"
          ]
        }
      ]
    },
    {
      "cell_type": "code",
      "source": [
        "predictions.select(\"label\", \"prediction\", \"probability\").show(10, truncate=False)"
      ],
      "metadata": {
        "id": "q18mJjXdi_vW",
        "colab": {
          "base_uri": "https://localhost:8080/"
        },
        "outputId": "3d1dcdad-fc29-46c0-e75e-01d1ff4173d2"
      },
      "execution_count": null,
      "outputs": [
        {
          "output_type": "stream",
          "name": "stdout",
          "text": [
            "+-----+----------+----------------------------------------+\n",
            "|label|prediction|probability                             |\n",
            "+-----+----------+----------------------------------------+\n",
            "|0.0  |0.0       |[0.9311517127000285,0.0688482872999715] |\n",
            "|0.0  |0.0       |[0.7563298130012258,0.24367018699877419]|\n",
            "|1.0  |0.0       |[0.7563298130012258,0.24367018699877419]|\n",
            "|0.0  |0.0       |[0.7308763108325717,0.26912368916742835]|\n",
            "|1.0  |0.0       |[0.7956525527780742,0.20434744722192577]|\n",
            "|0.0  |0.0       |[0.8612143409774629,0.13878565902253714]|\n",
            "|0.0  |0.0       |[0.8648620002784477,0.13513799972155227]|\n",
            "|0.0  |0.0       |[0.9283753178783005,0.07162468212169948]|\n",
            "|0.0  |0.0       |[0.5480582175562387,0.45194178244376126]|\n",
            "|0.0  |0.0       |[0.8306011901913654,0.16939880980863464]|\n",
            "+-----+----------+----------------------------------------+\n",
            "only showing top 10 rows\n",
            "\n"
          ]
        }
      ]
    },
    {
      "cell_type": "markdown",
      "source": [
        "Used same parameters as earlier model but now set to only use the economic variables"
      ],
      "metadata": {
        "id": "lx5jiVF-g_Yw"
      }
    },
    {
      "cell_type": "code",
      "source": [
        "econ_cols = [\"emp_var_rate\",\"cons_price_idx\",\"cons_conf_idx\",\"euribor3m\",\"nr_employed\"]\n",
        "\n",
        "#Only the economic variables into a new column\n",
        "assembler = VectorAssembler(inputCols=econ_cols, outputCol=\"econFeatures\")\n",
        "df_econ = assembler.transform(df2)\n",
        "\n",
        "#Split into train and test sets\n",
        "train, test = df_econ.randomSplit([0.7, 0.3], seed=42)\n",
        "\n",
        "#Fit GBTClassifier on econFeatures\n",
        "gbt = GBTClassifier(\n",
        "    labelCol=\"label\",\n",
        "    featuresCol=\"econFeatures\",\n",
        "    maxIter=70,\n",
        "    maxDepth=4,\n",
        "    stepSize=0.05,\n",
        "    seed=42\n",
        ")\n",
        "model = gbt.fit(train)\n",
        "preds = model.transform(test)"
      ],
      "metadata": {
        "id": "FIsbkI-Wi_s7"
      },
      "execution_count": null,
      "outputs": []
    },
    {
      "cell_type": "markdown",
      "source": [
        "AUC of econ model"
      ],
      "metadata": {
        "id": "leZ6AnpafVCf"
      }
    },
    {
      "cell_type": "code",
      "source": [
        "#Evaluate AUC\n",
        "evaluator = BinaryClassificationEvaluator(\n",
        "    labelCol=\"label\",\n",
        "    rawPredictionCol=\"rawPrediction\",\n",
        "    metricName=\"areaUnderROC\"\n",
        ")\n",
        "auc = evaluator.evaluate(preds)\n",
        "print(f\"AUC: {auc:.4f}\")"
      ],
      "metadata": {
        "colab": {
          "base_uri": "https://localhost:8080/"
        },
        "id": "gu_8hnZRfUEJ",
        "outputId": "0171289f-7d1c-45fa-905d-d990e5e8dc82"
      },
      "execution_count": null,
      "outputs": [
        {
          "output_type": "stream",
          "name": "stdout",
          "text": [
            "AUC: 0.7955\n"
          ]
        }
      ]
    },
    {
      "cell_type": "markdown",
      "source": [
        "Feature importance"
      ],
      "metadata": {
        "id": "sUiuTxQQfZEd"
      }
    },
    {
      "cell_type": "code",
      "source": [
        "#Print feature importances\n",
        "imps = model.featureImportances.toArray()\n",
        "print(\"\\nFeature importances:\")\n",
        "for name, score in sorted(zip(econ_cols, imps), key=lambda x: x[1], reverse=True):\n",
        "    print(f\"  {name:20s}: {score:.4f}\")"
      ],
      "metadata": {
        "colab": {
          "base_uri": "https://localhost:8080/"
        },
        "id": "4NGzp7uJfYpz",
        "outputId": "05f693d1-2376-4202-eab4-74e91bbf3409"
      },
      "execution_count": null,
      "outputs": [
        {
          "output_type": "stream",
          "name": "stdout",
          "text": [
            "\n",
            "Feature importances:\n",
            "  nr_employed         : 0.4626\n",
            "  emp_var_rate        : 0.2093\n",
            "  euribor3m           : 0.1359\n",
            "  cons_conf_idx       : 0.1209\n",
            "  cons_price_idx      : 0.0712\n"
          ]
        }
      ]
    },
    {
      "cell_type": "markdown",
      "source": [
        "Accuracy F1 Precision Recall"
      ],
      "metadata": {
        "id": "6hmRiEyKff5x"
      }
    },
    {
      "cell_type": "code",
      "source": [
        "from pyspark.ml.evaluation import BinaryClassificationEvaluator, MulticlassClassificationEvaluator\n",
        "\n",
        "#Calculate accuracy\n",
        "evaluator_acc = MulticlassClassificationEvaluator(\n",
        "    labelCol=\"label\", predictionCol=\"prediction\", metricName=\"accuracy\"\n",
        ")\n",
        "acc = evaluator_acc.evaluate(preds)\n",
        "print(f\"Accuracy: {acc:.4f}\")\n",
        "\n",
        "#Calculate F1 score\n",
        "evaluator_f1 = MulticlassClassificationEvaluator(\n",
        "    labelCol=\"label\", predictionCol=\"prediction\", metricName=\"f1\"\n",
        ")\n",
        "f1 = evaluator_f1.evaluate(preds)\n",
        "print(f\"F1 Score: {f1:.4f}\")\n",
        "\n",
        "#Calculate Precision\n",
        "evaluator_prec = MulticlassClassificationEvaluator(\n",
        "    labelCol=\"label\", predictionCol=\"prediction\", metricName=\"weightedPrecision\"\n",
        ")\n",
        "prec = evaluator_prec.evaluate(preds)\n",
        "print(f\"Precision: {prec:.4f}\")\n",
        "\n",
        "#Calculate Recall\n",
        "evaluator_rec = MulticlassClassificationEvaluator(\n",
        "    labelCol=\"label\", predictionCol=\"prediction\", metricName=\"weightedRecall\"\n",
        ")\n",
        "rec = evaluator_rec.evaluate(preds)\n",
        "print(f\"Recall: {rec:.4f}\")\n"
      ],
      "metadata": {
        "id": "ki23PzkPi_qk",
        "colab": {
          "base_uri": "https://localhost:8080/"
        },
        "outputId": "49f75c0d-be3d-46f2-ea5c-119a347977d9"
      },
      "execution_count": null,
      "outputs": [
        {
          "output_type": "stream",
          "name": "stdout",
          "text": [
            "Accuracy: 0.8906\n",
            "F1 Score: 0.8662\n",
            "Precision: 0.8639\n",
            "Recall: 0.8906\n"
          ]
        }
      ]
    },
    {
      "cell_type": "code",
      "source": [
        "#Renaming the cols so theyre more interpretable\n",
        "display_labels = [\"Employment Variation Rate (%)\",\n",
        "                  \"Consumer Price Index\",\n",
        "                  \"Consumer Confidence Index\",\n",
        "                  \"3-Month Euribor Rate (%)\",\n",
        "                  \"Number Employed\"]\n",
        "\n",
        "# econ cols and display labels\n",
        "for col, label in zip(econ_cols, display_labels):\n",
        "    corr = df_econ.stat.corr(\"label\", col)\n",
        "    print(f\"{label:25s} corr = {corr:+.2f}\")\n"
      ],
      "metadata": {
        "id": "PaO19l-XxmZF",
        "colab": {
          "base_uri": "https://localhost:8080/"
        },
        "outputId": "0ad48fae-9f36-4025-ce59-1b1e47a384ae"
      },
      "execution_count": null,
      "outputs": [
        {
          "output_type": "stream",
          "name": "stdout",
          "text": [
            "Employment Variation Rate (%) corr = -0.30\n",
            "Consumer Price Index      corr = -0.14\n",
            "Consumer Confidence Index corr = +0.05\n",
            "3-Month Euribor Rate (%)  corr = -0.31\n",
            "Number Employed           corr = -0.35\n"
          ]
        }
      ]
    },
    {
      "cell_type": "code",
      "source": [
        "from pyspark.sql.functions import col\n",
        "import matplotlib.pyplot as plt\n",
        "\n",
        "corrs = [df_econ.stat.corr(\"label\", c) for c in econ_cols]\n",
        "\n",
        "#Picking syracuse colors and then making it so that it will select every other one so blue orange blue orange etc\n",
        "orange = \"#F76900\"; blue = \"#000E54\"\n",
        "colors = [orange if i%2==0 else blue for i in range(len(corrs))]\n",
        "\n",
        "plt.figure(figsize=(6,4))\n",
        "bars = plt.barh(display_labels, corrs, color=colors)\n",
        "plt.axvline(0, color=\"black\")\n",
        "\n",
        "plt.xlabel(\"Correlation with Subscription\")\n",
        "plt.title(\"Macro Variable Correlations\")\n",
        "\n",
        "plt.tight_layout()\n",
        "plt.show()"
      ],
      "metadata": {
        "id": "iPPc1FbEi_oR",
        "colab": {
          "base_uri": "https://localhost:8080/",
          "height": 407
        },
        "outputId": "369b1568-c5c5-44db-8547-a6a049024322"
      },
      "execution_count": null,
      "outputs": [
        {
          "output_type": "display_data",
          "data": {
            "text/plain": [
              "<Figure size 600x400 with 1 Axes>"
            ],
            "image/png": "[encoded data removed]"
          },
          "metadata": {}
        }
      ]
    }
  ]
}